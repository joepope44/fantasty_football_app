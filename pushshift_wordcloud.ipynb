{
 "cells": [
  {
   "cell_type": "code",
   "execution_count": 9,
   "metadata": {},
   "outputs": [],
   "source": [
    "import requests\n",
    "import pandas as pd\n",
    "import json"
   ]
  },
  {
   "cell_type": "code",
   "execution_count": 10,
   "metadata": {},
   "outputs": [],
   "source": [
    "# documentation - https://github.com/dmarx/psaw"
   ]
  },
  {
   "cell_type": "code",
   "execution_count": 11,
   "metadata": {},
   "outputs": [],
   "source": [
    "from psaw import PushshiftAPI\n",
    "\n",
    "api = PushshiftAPI()"
   ]
  },
  {
   "cell_type": "code",
   "execution_count": 12,
   "metadata": {},
   "outputs": [
    {
     "data": {
      "text/plain": [
       "1537070400"
      ]
     },
     "execution_count": 12,
     "metadata": {},
     "output_type": "execute_result"
    }
   ],
   "source": [
    "import datetime as dt\n",
    "\n",
    "start_epoch=int(dt.datetime(2018, 9, 16).timestamp())\n",
    "start_epoch"
   ]
  },
  {
   "cell_type": "code",
   "execution_count": 13,
   "metadata": {},
   "outputs": [],
   "source": [
    "r = 'https://api.pushshift.io/reddit/comment/search/'"
   ]
  },
  {
   "cell_type": "code",
   "execution_count": 14,
   "metadata": {},
   "outputs": [],
   "source": [
    "s_params = {\n",
    "    'author': 'FantasyMod',\n",
    "    'filter': ['id','title', 'created_utc'],\n",
    "    'limit': 5}"
   ]
  },
  {
   "cell_type": "code",
   "execution_count": 15,
   "metadata": {},
   "outputs": [],
   "source": [
    "s = 'https://api.pushshift.io/reddit/search/submission/'"
   ]
  },
  {
   "cell_type": "code",
   "execution_count": 16,
   "metadata": {},
   "outputs": [],
   "source": [
    "response = requests.get(s, s_params)"
   ]
  },
  {
   "cell_type": "code",
   "execution_count": 17,
   "metadata": {},
   "outputs": [],
   "source": [
    "content = response.json()"
   ]
  },
  {
   "cell_type": "code",
   "execution_count": 18,
   "metadata": {},
   "outputs": [
    {
     "data": {
      "text/plain": [
       "[{'created_utc': 1537156802,\n",
       "  'id': '9gh3uz',\n",
       "  'title': 'OFFICIAL MONDAY NIGHT MIRACLE THREAD'},\n",
       " {'created_utc': 1537154698,\n",
       "  'id': '9ggw0n',\n",
       "  'title': 'OFFICIAL SUNDAY NIGHT POSTGAME THREAD'},\n",
       " {'created_utc': 1537154019,\n",
       "  'id': '9ggte7',\n",
       "  'title': 'OFFICIAL SUNDAY NIGHT POSTGAME THREAD'},\n",
       " {'created_utc': 1537142698,\n",
       "  'id': '9gfhlr',\n",
       "  'title': 'OFFICIAL SUNDAY NIGHT GAME THREAD'},\n",
       " {'created_utc': 1537140603,\n",
       "  'id': '9gf8ya',\n",
       "  'title': 'OFFICIAL SUNDAY AFTERNOON POSTGAME THREAD'}]"
      ]
     },
     "execution_count": 18,
     "metadata": {},
     "output_type": "execute_result"
    }
   ],
   "source": [
    "content['data']"
   ]
  },
  {
   "cell_type": "code",
   "execution_count": 19,
   "metadata": {},
   "outputs": [],
   "source": [
    "u = 1537142698"
   ]
  },
  {
   "cell_type": "code",
   "execution_count": 20,
   "metadata": {},
   "outputs": [
    {
     "ename": "NameError",
     "evalue": "name 'time' is not defined",
     "output_type": "error",
     "traceback": [
      "\u001b[0;31m---------------------------------------------------------------------------\u001b[0m",
      "\u001b[0;31mNameError\u001b[0m                                 Traceback (most recent call last)",
      "\u001b[0;32m<ipython-input-20-271640404cc3>\u001b[0m in \u001b[0;36m<module>\u001b[0;34m()\u001b[0m\n\u001b[0;32m----> 1\u001b[0;31m \u001b[0mtime\u001b[0m\u001b[0;34m.\u001b[0m\u001b[0mlocaltime\u001b[0m\u001b[0;34m(\u001b[0m\u001b[0mu\u001b[0m\u001b[0;34m)\u001b[0m\u001b[0;34m\u001b[0m\u001b[0m\n\u001b[0m",
      "\u001b[0;31mNameError\u001b[0m: name 'time' is not defined"
     ]
    }
   ],
   "source": [
    "time.localtime(u)"
   ]
  },
  {
   "cell_type": "code",
   "execution_count": 21,
   "metadata": {},
   "outputs": [
    {
     "data": {
      "text/plain": [
       "'2018-09-16 20:04:58'"
      ]
     },
     "execution_count": 21,
     "metadata": {},
     "output_type": "execute_result"
    }
   ],
   "source": [
    "import time\n",
    "\n",
    "time.strftime('%Y-%m-%d %H:%M:%S', time.localtime(u))\n"
   ]
  },
  {
   "cell_type": "code",
   "execution_count": 22,
   "metadata": {},
   "outputs": [
    {
     "data": {
      "text/plain": [
       "[{'created_utc': 1537156802,\n",
       "  'id': '9gh3uz',\n",
       "  'title': 'OFFICIAL MONDAY NIGHT MIRACLE THREAD'},\n",
       " {'created_utc': 1537154698,\n",
       "  'id': '9ggw0n',\n",
       "  'title': 'OFFICIAL SUNDAY NIGHT POSTGAME THREAD'},\n",
       " {'created_utc': 1537154019,\n",
       "  'id': '9ggte7',\n",
       "  'title': 'OFFICIAL SUNDAY NIGHT POSTGAME THREAD'},\n",
       " {'created_utc': 1537142698,\n",
       "  'id': '9gfhlr',\n",
       "  'title': 'OFFICIAL SUNDAY NIGHT GAME THREAD'},\n",
       " {'created_utc': 1537140603,\n",
       "  'id': '9gf8ya',\n",
       "  'title': 'OFFICIAL SUNDAY AFTERNOON POSTGAME THREAD'}]"
      ]
     },
     "execution_count": 22,
     "metadata": {},
     "output_type": "execute_result"
    }
   ],
   "source": [
    "content['data']"
   ]
  },
  {
   "cell_type": "code",
   "execution_count": 24,
   "metadata": {},
   "outputs": [
    {
     "name": "stdout",
     "output_type": "stream",
     "text": [
      "9gh3uz\n",
      "9ggw0n\n",
      "9ggte7\n",
      "9gfhlr\n",
      "9gf8ya\n"
     ]
    }
   ],
   "source": [
    "for entry in content['data']:\n",
    "    print(entry['id'])"
   ]
  },
  {
   "cell_type": "code",
   "execution_count": 26,
   "metadata": {},
   "outputs": [],
   "source": [
    "name = 'Eli Manning'\n",
    "\n",
    "firstname = name.split(' ')[0]\n",
    "lastname = name.split(' ')[1]\n",
    "firstname, lastname\n",
    "\n",
    "position = 'QB'\n",
    "\n",
    "filter_list = [firstname, lastname, name, position]"
   ]
  },
  {
   "cell_type": "code",
   "execution_count": 27,
   "metadata": {},
   "outputs": [],
   "source": [
    "params = {\n",
    "    'subreddit': 'fantasyfootball',\n",
    "    'q': '|'.join(filter_list) ,\n",
    "    'size': 10,\n",
    "    'link_id': '9gfhlr',\n",
    "    'filter': 'body'\n",
    "}"
   ]
  },
  {
   "cell_type": "code",
   "execution_count": 28,
   "metadata": {},
   "outputs": [],
   "source": [
    "response = requests.get(r, params)"
   ]
  },
  {
   "cell_type": "code",
   "execution_count": 29,
   "metadata": {},
   "outputs": [],
   "source": [
    "content = response.json()"
   ]
  },
  {
   "cell_type": "code",
   "execution_count": 30,
   "metadata": {},
   "outputs": [
    {
     "data": {
      "text/plain": [
       "{'data': [{'body': 'obj is hot and cold every year. dj has a new coach/qb/offense. '},\n",
       "  {'body': 'Yup for anyone wondering why Odell only has 7 targets today, Manning threw 15 fucking checkdowns to Barkley tonight.'},\n",
       "  {'body': 'Barkley has been beast, just a shitty QB and Oline '},\n",
       "  {'body': 'Last year they have no obj or saquan and are ass. Give the giants two elite athletes and they’re still ass.\\n\\nCommon denominator? Goofy Manning \\n\\n'},\n",
       "  {'body': 'That delay of game penalty...just trash all around. Too bad studs like Beckham and Barkley have to be stuck behind an awful Oline with a QB past his prime. '},\n",
       "  {'body': \"Gotta get him 40 touches a game and have no passing game. Bringing back the good ol' days. I fully look forward to Eli running an option offense next week, rolling out with Barkly on a QB keeper in the 4th quarter down 30 points, fake latteralling to juke out a corner and gaining 1 yard.\"},\n",
       "  {'body': 'Manning has Barkley on his PPR team.'},\n",
       "  {'body': 'On the bright side the giants can draft a qb with their #1 overall pick '},\n",
       "  {'body': 'Cowboys fans hate him more than anyone else does. Dak is the most shat on QB in the NFL, bar none. '},\n",
       "  {'body': 'Has to cross his fingers they draft a qb with their #1 overall pick '}]}"
      ]
     },
     "execution_count": 30,
     "metadata": {},
     "output_type": "execute_result"
    }
   ],
   "source": [
    "content"
   ]
  },
  {
   "cell_type": "code",
   "execution_count": 31,
   "metadata": {},
   "outputs": [
    {
     "data": {
      "text/plain": [
       "'obj is hot and cold every year. dj has a new coach/qb/offense. '"
      ]
     },
     "execution_count": 31,
     "metadata": {},
     "output_type": "execute_result"
    }
   ],
   "source": [
    "content['data'][0]['body']"
   ]
  },
  {
   "cell_type": "code",
   "execution_count": 34,
   "metadata": {},
   "outputs": [],
   "source": [
    "results = []\n",
    "for comment in content['data']:\n",
    "    results.append(comment['body'])\n",
    "results\n",
    "\n",
    "df = pd.DataFrame(results, columns=['Text'])"
   ]
  },
  {
   "cell_type": "code",
   "execution_count": 35,
   "metadata": {},
   "outputs": [
    {
     "data": {
      "text/html": [
       "<div>\n",
       "<style scoped>\n",
       "    .dataframe tbody tr th:only-of-type {\n",
       "        vertical-align: middle;\n",
       "    }\n",
       "\n",
       "    .dataframe tbody tr th {\n",
       "        vertical-align: top;\n",
       "    }\n",
       "\n",
       "    .dataframe thead th {\n",
       "        text-align: right;\n",
       "    }\n",
       "</style>\n",
       "<table border=\"1\" class=\"dataframe\">\n",
       "  <thead>\n",
       "    <tr style=\"text-align: right;\">\n",
       "      <th></th>\n",
       "      <th>Text</th>\n",
       "    </tr>\n",
       "  </thead>\n",
       "  <tbody>\n",
       "    <tr>\n",
       "      <th>0</th>\n",
       "      <td>obj is hot and cold every year. dj has a new c...</td>\n",
       "    </tr>\n",
       "    <tr>\n",
       "      <th>1</th>\n",
       "      <td>Yup for anyone wondering why Odell only has 7 ...</td>\n",
       "    </tr>\n",
       "    <tr>\n",
       "      <th>2</th>\n",
       "      <td>Barkley has been beast, just a shitty QB and O...</td>\n",
       "    </tr>\n",
       "    <tr>\n",
       "      <th>3</th>\n",
       "      <td>Last year they have no obj or saquan and are a...</td>\n",
       "    </tr>\n",
       "    <tr>\n",
       "      <th>4</th>\n",
       "      <td>That delay of game penalty...just trash all ar...</td>\n",
       "    </tr>\n",
       "    <tr>\n",
       "      <th>5</th>\n",
       "      <td>Gotta get him 40 touches a game and have no pa...</td>\n",
       "    </tr>\n",
       "    <tr>\n",
       "      <th>6</th>\n",
       "      <td>Manning has Barkley on his PPR team.</td>\n",
       "    </tr>\n",
       "    <tr>\n",
       "      <th>7</th>\n",
       "      <td>On the bright side the giants can draft a qb w...</td>\n",
       "    </tr>\n",
       "    <tr>\n",
       "      <th>8</th>\n",
       "      <td>Cowboys fans hate him more than anyone else do...</td>\n",
       "    </tr>\n",
       "    <tr>\n",
       "      <th>9</th>\n",
       "      <td>Has to cross his fingers they draft a qb with ...</td>\n",
       "    </tr>\n",
       "  </tbody>\n",
       "</table>\n",
       "</div>"
      ],
      "text/plain": [
       "                                                Text\n",
       "0  obj is hot and cold every year. dj has a new c...\n",
       "1  Yup for anyone wondering why Odell only has 7 ...\n",
       "2  Barkley has been beast, just a shitty QB and O...\n",
       "3  Last year they have no obj or saquan and are a...\n",
       "4  That delay of game penalty...just trash all ar...\n",
       "5  Gotta get him 40 touches a game and have no pa...\n",
       "6               Manning has Barkley on his PPR team.\n",
       "7  On the bright side the giants can draft a qb w...\n",
       "8  Cowboys fans hate him more than anyone else do...\n",
       "9  Has to cross his fingers they draft a qb with ..."
      ]
     },
     "execution_count": 35,
     "metadata": {},
     "output_type": "execute_result"
    }
   ],
   "source": [
    "df"
   ]
  },
  {
   "cell_type": "code",
   "execution_count": 241,
   "metadata": {},
   "outputs": [
    {
     "data": {
      "image/png": "[encoded data removed]",
      "text/plain": [
       "<matplotlib.figure.Figure at 0x11c686080>"
      ]
     },
     "metadata": {},
     "output_type": "display_data"
    }
   ],
   "source": [
    "from wordcloud import WordCloud, STOPWORDS \n",
    "import matplotlib.pyplot as plt \n",
    "\n",
    "   \n",
    "comment_words = ' '\n",
    "stopwords = set(STOPWORDS) \n",
    "stopwords |= set(filter_list) \n",
    "stopwords.add('game')\n",
    "    \n",
    "# iterate through the DataFrame\n",
    "for val in df.Text: \n",
    "      \n",
    "    # typecaste each val to string \n",
    "    val = str(val) \n",
    "  \n",
    "    # split the value \n",
    "    tokens = val.split() \n",
    "      \n",
    "    # Converts each token into lowercase \n",
    "    for i in range(len(tokens)): \n",
    "        tokens[i] = tokens[i].lower() \n",
    "          \n",
    "    for words in tokens: \n",
    "        comment_words = comment_words + words + ' '\n",
    "  \n",
    "  \n",
    "wordcloud = WordCloud(width = 800, height = 800, \n",
    "                background_color ='white', \n",
    "                stopwords = stopwords, \n",
    "                min_font_size = 10,\n",
    "                max_words=20).generate(comment_words) \n",
    "  \n",
    "# plot the WordCloud image                        \n",
    "plt.figure(figsize = (8, 8), facecolor = None) \n",
    "plt.imshow(wordcloud) \n",
    "plt.axis(\"off\") \n",
    "plt.tight_layout(pad = 0) \n",
    "  \n",
    "plt.show() "
   ]
  },
  {
   "cell_type": "code",
   "execution_count": 242,
   "metadata": {},
   "outputs": [],
   "source": [
    "# This link can help color positive vs. negative comments or words.  \n",
    "# https://amueller.github.io/word_cloud/auto_examples/colored_by_group.html#sphx-glr-auto-examples-colored-by-group-py"
   ]
  },
  {
   "cell_type": "code",
   "execution_count": null,
   "metadata": {},
   "outputs": [],
   "source": []
  },
  {
   "cell_type": "code",
   "execution_count": null,
   "metadata": {},
   "outputs": [],
   "source": []
  }
 ],
 "metadata": {
  "kernelspec": {
   "display_name": "Python 3",
   "language": "python",
   "name": "python3"
  },
  "language_info": {
   "codemirror_mode": {
    "name": "ipython",
    "version": 3
   },
   "file_extension": ".py",
   "mimetype": "text/x-python",
   "name": "python",
   "nbconvert_exporter": "python",
   "pygments_lexer": "ipython3",
   "version": "3.6.3"
  }
 },
 "nbformat": 4,
 "nbformat_minor": 2
}
